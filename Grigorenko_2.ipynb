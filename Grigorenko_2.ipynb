{
  "cells": [
    {
      "cell_type": "markdown",
      "id": "fifteen-sailing",
      "metadata": {
        "id": "fifteen-sailing"
      },
      "source": [
        "# Лабораторная работа №2\n",
        "## Выполнил студент группы Григоренко Дарья БФИ2302"
      ]
    },
    {
      "cell_type": "markdown",
      "id": "arctic-stocks",
      "metadata": {
        "id": "arctic-stocks"
      },
      "source": [
        "Реализовать следующие структуры данных:\n",
        "  \n",
        "● <b> Стек (stack): </b>  \n",
        "Операции для стека:\n",
        "<i> инициализация, проверка на пустоту, добавление нового элемента в начало, извлечение элемента из начала;  </i>  \n",
        "  \n",
        "● <b> Дек (двусторонняя очередь, deque):  </b>  \n",
        "Операции для дека:\n",
        "<i> инициализация, проверка на пустоту, добавление нового элемента в начало, добавление нового элемента в конец, извлечение элемента из начала, извлечение элемента из конца. </i>  \n",
        "  \n",
        "<i> Разработать программу обработки данных, содержащихся в заранее подготовленном txt-файле, в соответствии с заданиями, применив указанную в задании структуру данных. Результат работы программы вывести на экран и сохранить в отдельном txt-файле. </i>"
      ]
    },
    {
      "cell_type": "markdown",
      "id": "5d7edb08",
      "metadata": {
        "id": "5d7edb08",
        "scrolled": true
      },
      "source": [
        "### Задание №1\n",
        "Отсортировать строки файла, содержащие названия книг, в алфавитном порядке с использованием двух деков."
      ]
    },
    {
      "cell_type": "code",
      "execution_count": null,
      "id": "17702ade",
      "metadata": {
        "id": "17702ade"
      },
      "outputs": [],
      "source": [
        "from collections import deque\n",
        "\n",
        "with open('books.txt', 'r', encoding='utf-8') as file:\n",
        "    a = file.readlines()\n",
        "\n",
        "left = deque()\n",
        "right = deque()\n",
        "\n",
        "for i in a:\n",
        "    left.append(i.strip())\n",
        "\n",
        "while left: \n",
        "    new = min(left)\n",
        "    left.remove(new)\n",
        "    right.append(new)\n",
        "    print(new) \n",
        "\n",
        "with open('new_books.txt', 'w') as file:\n",
        "    for j in right:\n",
        "        file.write(j + '\\n')"
      ]
    },
    {
      "cell_type": "markdown",
      "id": "49fbd2a0",
      "metadata": {
        "id": "49fbd2a0"
      },
      "source": [
        "### Задание №2\n",
        "Дек содержит последовательность символов для шифровки сообщений. Дан текстовый файл, содержащий зашифрованное сообщение. Пользуясь деком, расшифровать текст.\n",
        "Известно, что при шифровке каждый символ сообщения заменялся следующим за ним в деке по часовой стрелке через один."
      ]
    },
    {
      "cell_type": "code",
      "execution_count": null,
      "id": "81cab7a8",
      "metadata": {
        "id": "81cab7a8"
      },
      "outputs": [],
      "source": [
        "from collections import deque\n",
        "\n",
        "deq = deque(['a', 'b', 'c', 'd', 'e', 'f', 'g', 'h', 'i', 'j', 'k', 'l', 'm',\n",
        "             'n', 'o', 'p', 'q', 'r', 's', 't', 'u', 'v', 'w', 'x', 'y', 'z'])\n",
        "\n",
        "with open('shifr.txt', 'r') as file:\n",
        "    mes = file.read()\n",
        "\n",
        "\n",
        "mes1 = ''\n",
        "for i in mes:\n",
        "    if i.isalpha():\n",
        "        index = deq.index(i)\n",
        "        new = deq[(index - 1) % len(deq)] #a-z\n",
        "        mes1 += new\n",
        "    else:\n",
        "        mes1 += i\n",
        "\n",
        "\n",
        "print(mes1)\n",
        "\n",
        "\n",
        "with open('shpion.txt', 'w') as file:\n",
        "    file.write(mes1)\n"
      ]
    },
    {
      "cell_type": "markdown",
      "id": "c0894f47",
      "metadata": {
        "id": "c0894f47"
      },
      "source": [
        "### Задание №3\n",
        "Даны три стержня и n дисков различного размера. Диски можно надевать на стержни, образуя из них башни. Перенести n дисков со стержня А на стержень С, сохранив их первоначальный порядок. При переносе дисков необходимо соблюдать следующие правила:\n",
        "- на каждом шаге со стержня на стержень переносить только один диск;\n",
        "- диск нельзя помещать на диск меньшего размера;\n",
        "- для промежуточного хранения можно использовать стержень В.\n",
        "Реализовать алгоритм, используя три стека вместо стержней А, В, С. Информация о дисках хранится в исходном файле."
      ]
    },
    {
      "cell_type": "code",
      "execution_count": null,
      "id": "9e91a9d4",
      "metadata": {
        "id": "9e91a9d4"
      },
      "outputs": [],
      "source": [
        "def peremeshenie(a, c, a_name, c_name):\n",
        "    disk = a.pop()  \n",
        "    c.append(disk) \n",
        "    print(f\"{a_name} {a} --- {c_name} {c}\")\n",
        "    with open('ALL.txt', 'a') as new_file:\n",
        "        new_file.write(f\"{a_name} {a} --- {c_name} {c}\\n\")\n",
        "\n",
        "def vibor(n, a, c, b, a_name, c_name, b_name):\n",
        "    while len(c) != n:\n",
        "        if len(a) > 0:\n",
        "            peremeshenie(a, c, a_name, c_name)\n",
        "        if len(a) > 0:\n",
        "            peremeshenie(a, b, a_name, b_name)\n",
        "        if len(b) > 0:\n",
        "            peremeshenie(b, c, b_name, c_name)\n",
        "        if len(c) == n:\n",
        "            print('Итог: ',c)\n",
        "\n",
        "with open('bashnya.txt', 'r') as file:\n",
        "    disks = [int(i.strip()) for i in file]\n",
        "\n",
        "with open('ALL.txt', 'w') as file:\n",
        "    file.write('')\n",
        "\n",
        "stack_a = disks[::-1] \n",
        "stack_b = []  \n",
        "stack_c = [] \n",
        "\n",
        "vibor(len(disks), stack_a, stack_c, stack_b, 'A', 'C', 'B')\n"
      ]
    },
    {
      "cell_type": "markdown",
      "id": "e5b0be17",
      "metadata": {
        "id": "e5b0be17"
      },
      "source": [
        "### Задание №4\n",
        "Дан текстовый файл с программой на алгоритмическом языке. За один просмотр файла проверить баланс круглых скобок в тексте, используя стек."
      ]
    },
    {
      "cell_type": "code",
      "execution_count": null,
      "id": "5b1df60a",
      "metadata": {
        "id": "5b1df60a"
      },
      "outputs": [],
      "source": [
        "\n",
        "class Stack:\n",
        "    def __init__(self):\n",
        "        self.items = []\n",
        "\n",
        "    def push(self, item):\n",
        "        self.items.append(item)\n",
        "\n",
        "    def pop(self):\n",
        "        self.items.pop()\n",
        "        \n",
        "        \n",
        "def balance(code):\n",
        "    stack = Stack()\n",
        "    c = 0\n",
        "\n",
        "    with open(code, 'r') as file:\n",
        "        for i in file:\n",
        "            for j in i:\n",
        "                if j == '(':\n",
        "                    stack.push('(')\n",
        "                if j == ')':\n",
        "                    if not stack:\n",
        "                        return False\n",
        "                    stack.pop()\n",
        "                    c += 1\n",
        "        return c\n",
        "    # написатть класс стэка\n",
        "code = 'code.txt'\n",
        "res = balance(code)\n",
        "print(res)\n"
      ]
    },
    {
      "cell_type": "markdown",
      "id": "c44cdd6b",
      "metadata": {
        "id": "c44cdd6b"
      },
      "source": [
        "### Задание №5\n",
        "Дан текстовый файл с программой на алгоритмическом языке. За один просмотр файла проверить баланс квадратных скобок в тексте, используя дек."
      ]
    },
    {
      "cell_type": "code",
      "execution_count": null,
      "id": "36b8f400",
      "metadata": {
        "id": "36b8f400"
      },
      "outputs": [],
      "source": [
        "from collections import deque\n",
        "\n",
        "def bc(alg):\n",
        "    deq = deque()\n",
        "    c = 0\n",
        "\n",
        "    with open(alg, 'r') as file:\n",
        "        for i in file:\n",
        "            for j in i:\n",
        "                if j == '[':\n",
        "                    deq.append('[')\n",
        "                if j == ']':\n",
        "                    if not deq:\n",
        "                        return False\n",
        "                    deq.pop()\n",
        "                    c += 1\n",
        "        return c\n",
        "\n",
        "alg = 'alg.txt'\n",
        "res = bc(alg)\n",
        "print(res)\n"
      ]
    },
    {
      "cell_type": "markdown",
      "id": "59d13dc7",
      "metadata": {
        "id": "59d13dc7"
      },
      "source": [
        "### Задание №6\n",
        "Дан файл из символов. Используя стек, за один просмотр файла напечатать сначала все цифры, затем все буквы, и, наконец, все остальные символы, сохраняя исходный порядок в каждой группе символов."
      ]
    },
    {
      "cell_type": "code",
      "execution_count": null,
      "id": "297e36c2",
      "metadata": {
        "id": "297e36c2"
      },
      "outputs": [],
      "source": [
        "class Stack:\n",
        "    def __init__(self):\n",
        "        self.items = []\n",
        "\n",
        "    def push(self, item):\n",
        "        self.items.append(item)\n",
        "\n",
        "    def pop(self):\n",
        "        self.items.pop()\n",
        "\n",
        "def a_1(f1, f2):\n",
        "    stack = Stack()\n",
        "\n",
        "    with open(f1, 'r', encoding='utf-8') as file:\n",
        "        for i in file:\n",
        "            for j in i:\n",
        "                stack.push(j)\n",
        "    num = Stack()\n",
        "    let = Stack()\n",
        "    sym = Stack()\n",
        "\n",
        "    for j in stack.items:\n",
        "        if j.isdigit():    \n",
        "            num.push(j)\n",
        "        if j.isalpha():\n",
        "            let.push(j)\n",
        "        else:\n",
        "            sym.push(j)\n",
        "\n",
        "    with open(f2, 'w', encoding='utf-8') as new_file:\n",
        "        print(\"Цифры:\")\n",
        "        new_file.write(\"Цифры:\\n\")\n",
        "        for j in stack.items:\n",
        "            if j in num.items:\n",
        "                print(j, end='')\n",
        "                new_file.write(j)\n",
        "\n",
        "        print(\"\\nБуквы:\")\n",
        "        new_file.write(\"\\nБуквы:\\n\")\n",
        "        for j in stack.items:\n",
        "            if j in let.items:\n",
        "                print(j, end='')\n",
        "                new_file.write(j)\n",
        "\n",
        "        print(\"\\nCимволы:\")\n",
        "        new_file.write(\"\\nCимволы:\\n\")\n",
        "        for j in stack.items:\n",
        "            if j in sym.items:\n",
        "                print(j, end='')\n",
        "                new_file.write(j)\n",
        "\n",
        "f1 = '6.txt'\n",
        "f2 = 'new_6.txt'\n",
        "a_1(f1, f2)\n",
        "    "
      ]
    },
    {
      "cell_type": "markdown",
      "id": "973f68bd",
      "metadata": {
        "id": "973f68bd"
      },
      "source": [
        "### Задание №7\n",
        "Дан файл из целых чисел. Используя дек, за один просмотр файла напечатать сначала все отрицательные числа, затем все положительные числа, сохраняя исходный порядок в каждой группе."
      ]
    },
    {
      "cell_type": "code",
      "execution_count": null,
      "id": "c56fad66",
      "metadata": {
        "id": "c56fad66"
      },
      "outputs": [],
      "source": [
        "from collections import deque\n",
        "\n",
        "def chisla(f1, f2):\n",
        "    otr = deque()\n",
        "    pol = deque()\n",
        "    z = deque()\n",
        "\n",
        "    with open(f1, 'r') as file:\n",
        "        for i in file:\n",
        "            num = map(int, i.split())\n",
        "        for j in num:\n",
        "            if j > 0:\n",
        "                pol.append(j)\n",
        "            if j < 0:\n",
        "                otr.append(j)\n",
        "            if j == 0:\n",
        "                z.append(j)\n",
        "\n",
        "    with open(f2, 'w') as new_file:\n",
        "        while otr:\n",
        "            otrnum = otr.popleft()\n",
        "            new_file.write(f'{otrnum}')\n",
        "            print(otrnum)\n",
        "\n",
        "        while pol:\n",
        "            polnum = pol.popleft()\n",
        "            new_file.write(f'{polnum}')\n",
        "            print(polnum)\n",
        "\n",
        "        while z:\n",
        "            znum = z.popleft()\n",
        "            new_file.write(f'{znum}')\n",
        "            print(znum)\n",
        "\n",
        "f1 = 'numbers.txt'\n",
        "f2 = 'poryadok.txt'\n",
        "chisla(f1, f2)"
      ]
    },
    {
      "cell_type": "markdown",
      "id": "b9228191",
      "metadata": {
        "id": "b9228191"
      },
      "source": [
        "### Задание №8\n",
        "Дан текстовый файл. Используя стек, сформировать новый текстовый файл, содержащий строки исходного файла, записанные в обратном порядке: первая строка становится последней, вторая – предпоследней и т.д."
      ]
    },
    {
      "cell_type": "code",
      "execution_count": null,
      "id": "981fbdfe",
      "metadata": {
        "id": "981fbdfe"
      },
      "outputs": [],
      "source": [
        "class Stack:\n",
        "    def __init__(self):\n",
        "        self.items = []\n",
        "\n",
        "    def push(self, item):\n",
        "        self.items.append(item)\n",
        "\n",
        "    def pop(self):\n",
        "        return self.items.pop()\n",
        "\n",
        "    def is_empty(self):\n",
        "        len(self.items) == 0\n",
        "\n",
        "def st(f1, f2):\n",
        "    stack = Stack()\n",
        "\n",
        "    with open(f1, 'r', encoding='utf-8') as file:\n",
        "        for i in file:\n",
        "            stack.push(i.strip())\n",
        "\n",
        "    with open(f2, 'w', encoding='utf-8') as new_file:\n",
        "        while stack.items:\n",
        "            i = stack.pop()\n",
        "            print(i)\n",
        "            new_file.write(f\"{i}\\n\") \n",
        "\n",
        "f1 = 'Строки.txt'\n",
        "f2 = 'Новые_строки.txt'\n",
        "st(f1, f2)"
      ]
    },
    {
      "cell_type": "markdown",
      "id": "rental-jerusalem",
      "metadata": {
        "id": "rental-jerusalem"
      },
      "source": [
        "### Вывод\n"
      ]
    },
    {
      "cell_type": "markdown",
      "id": "0c2b8899",
      "metadata": {
        "id": "0c2b8899"
      },
      "source": []
    }
  ],
  "metadata": {
    "colab": {
      "provenance": []
    },
    "kernelspec": {
      "display_name": "Python 3",
      "language": "python",
      "name": "python3"
    },
    "language_info": {
      "codemirror_mode": {
        "name": "ipython",
        "version": 3
      },
      "file_extension": ".py",
      "mimetype": "text/x-python",
      "name": "python",
      "nbconvert_exporter": "python",
      "pygments_lexer": "ipython3",
      "version": "3.11.9"
    }
  },
  "nbformat": 4,
  "nbformat_minor": 5
}

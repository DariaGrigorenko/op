{
 "cells": [
  {
   "cell_type": "markdown",
   "id": "fifteen-sailing",
   "metadata": {
    "id": "fifteen-sailing"
   },
   "source": [
    "# Лабораторная работа №1\n",
    "## Выполнил студент группы БФИ2302 Григоренко Дарья Ильинична"
   ]
  },
  {
   "cell_type": "markdown",
   "id": "particular-syndicate",
   "metadata": {
    "id": "particular-syndicate"
   },
   "source": [
    "### Оглавление\n",
    "1. [Задание 1](#Задание-№1)\n",
    "2. [Задание 2](#Задание-№2)\n",
    "3. [Задание 3](#Задание-№3)\n",
    "4. [Вывод](#Вывод)"
   ]
  },
  {
   "cell_type": "markdown",
   "id": "arctic-stocks",
   "metadata": {
    "id": "arctic-stocks"
   },
   "source": [
    "### Задание №1\n",
    "<i> Вызвать функцию print() и передать туда строку Hello, World! </i>"
   ]
  },
  {
   "cell_type": "code",
   "execution_count": 182,
   "id": "caring-truck",
   "metadata": {
    "id": "caring-truck",
    "scrolled": true
   },
   "outputs": [
    {
     "name": "stdout",
     "output_type": "stream",
     "text": [
      "Hello world\n"
     ]
    }
   ],
   "source": [
    "print(\"Hello world\")"
   ]
  },
  {
   "cell_type": "markdown",
   "id": "maritime-conversation",
   "metadata": {
    "id": "maritime-conversation"
   },
   "source": [
    "### Задание №2\n",
    "Написать генератор случайных матриц(многомерных), который принимает\n",
    "опциональные параметры <b>m</b>, <b>n</b>, <b>min_limit</b>, <b>max_limit</b>, где <b>m</b> и <b>n</b> указывают размер\n",
    "матрицы, а <b>min_lim</b> и <b>max_lim</b> - минимальное и максимальное значение для\n",
    "генерируемого числа."
   ]
  },
  {
   "cell_type": "code",
   "execution_count": 183,
   "id": "built-contact",
   "metadata": {
    "id": "built-contact"
   },
   "outputs": [],
   "source": [
    "import random\n",
    "import time"
   ]
  },
  {
   "cell_type": "code",
   "execution_count": 184,
   "id": "alert-charm",
   "metadata": {
    "id": "alert-charm",
    "outputId": "c95dd9e7-d076-4718-b6fb-25f2e6bc03b9"
   },
   "outputs": [
    {
     "name": "stdout",
     "output_type": "stream",
     "text": [
      "[49, 18, 48, 80, 48]\n",
      "[97, 82, 79, 74, 60]\n",
      "[9, 44, 81, 64, 82]\n",
      "[74, 26, 63, 8, 5]\n",
      "[24, 42, 72, 66, 36]\n"
     ]
    }
   ],
   "source": [
    "def genrand(m, n, user_min_limit, user_max_limit):\n",
    "    matrix = []\n",
    "    for i in range(m):\n",
    "        row=[]\n",
    "        for j in range(n):\n",
    "            row.append(random.randint(user_min_limit, user_max_limit))\n",
    "        matrix.append(row)\n",
    "    return matrix\n",
    "def prmat(matrix):\n",
    "    for row in matrix:\n",
    "        print(row)\n",
    "user_m = int(input(\"Введите количество строк: \")) \n",
    "user_n = int(input(\"Введите количество столбцов: \"))  \n",
    "user_min_limit = int(input(\"Введите минимальное значение: \"))  \n",
    "user_max_limit = int(input(\"Введите максимальное значение: \"))  \n",
    "\n",
    "\n",
    "my_matrix = genrand(user_m, user_n, user_min_limit, user_max_limit)\n",
    "\n",
    "prmat(my_matrix)\n"
   ]
  },
  {
   "cell_type": "markdown",
   "id": "catholic-roots",
   "metadata": {
    "id": "catholic-roots"
   },
   "source": [
    "### Задание №3\n",
    "Реализовать методы сортировки строк числовой матрицы в соответствии с\n",
    "заданием. Оценить время работы каждого алгоритма сортировки и сравнить его со\n",
    "временем стандартной функции сортировки. Испытания проводить на сгенерированных\n",
    "матрицах."
   ]
  },
  {
   "cell_type": "code",
   "execution_count": 185,
   "id": "opposed-creature",
   "metadata": {
    "id": "opposed-creature"
   },
   "outputs": [],
   "source": [
    "import copy"
   ]
  },
  {
   "cell_type": "code",
   "execution_count": 186,
   "id": "cleared-anniversary",
   "metadata": {
    "id": "cleared-anniversary",
    "outputId": "b7c76c60-4acb-4c14-9bfb-d4f8d71093a1"
   },
   "outputs": [
    {
     "name": "stdout",
     "output_type": "stream",
     "text": [
      "[9, 44, 81, 64, 82]\n",
      "[24, 42, 72, 66, 36]\n",
      "[49, 18, 48, 80, 48]\n",
      "[74, 26, 63, 8, 5]\n",
      "[97, 82, 79, 74, 60]\n",
      "--- 1 ms ---\n"
     ]
    }
   ],
   "source": [
    "# Сортировка выбором.\n",
    "# Берётся срез массива, в котором минимальный элемент переносят в самый левый угол,\n",
    "# после чего срез уменьшается и цикл повторяется.\n",
    "import time\n",
    "import copy\n",
    "start_time = time.time()\n",
    "def sortvib(my_matrix):\n",
    "    n = len(my_matrix) \n",
    "    for i in range(n):\n",
    "        min_index = i\n",
    "        for j in range(i + 1, n):\n",
    "            if my_matrix[j] < my_matrix[min_index]:\n",
    "                min_index = j\n",
    "        my_matrix[i], my_matrix[min_index] = my_matrix[min_index], my_matrix[i]\n",
    "sortvib(my_matrix)\n",
    "prmat(my_matrix)\n",
    "print(\"--- {0} ms ---\".format(round((time.time() - start_time)*1000)))"
   ]
  },
  {
   "cell_type": "code",
   "execution_count": 187,
   "id": "roman-silly",
   "metadata": {
    "id": "roman-silly",
    "outputId": "84666b71-fb68-4c07-d27d-e716af29fcbb",
    "scrolled": true
   },
   "outputs": [
    {
     "name": "stdout",
     "output_type": "stream",
     "text": [
      "[9, 44, 81, 64, 82]\n",
      "[24, 42, 72, 66, 36]\n",
      "[49, 18, 48, 80, 48]\n",
      "[74, 26, 63, 8, 5]\n",
      "[97, 82, 79, 74, 60]\n",
      "--- 0 ms ---\n"
     ]
    }
   ],
   "source": [
    "# Сортировка вставкой.  перебирается слева направо\n",
    "import time\n",
    "import copy\n",
    "\n",
    "start_time = time.time()\n",
    "def sortctrlV(my_matrix):\n",
    "    for i in range(1, len(my_matrix)):  \n",
    "        key = my_matrix[i]  \n",
    "        j = i - 1 \n",
    "        while j >= 0 and my_matrix[j] > key:\n",
    "            my_matrix[j + 1] = my_matrix[j]\n",
    "            j -= 1\n",
    "        my_matrix[j + 1] = key\n",
    "sortctrlV(my_matrix)\n",
    "prmat(my_matrix)\n",
    "print(\"--- {0} ms ---\".format(round((time.time() - start_time)*1000)))"
   ]
  },
  {
   "cell_type": "code",
   "execution_count": 188,
   "id": "vital-implementation",
   "metadata": {
    "id": "vital-implementation",
    "outputId": "7b648bf5-37a5-4d47-926d-b799f7a23be2"
   },
   "outputs": [
    {
     "name": "stdout",
     "output_type": "stream",
     "text": [
      "[9, 44, 81, 64, 82]\n",
      "[24, 42, 72, 66, 36]\n",
      "[49, 18, 48, 80, 48]\n",
      "[74, 26, 63, 8, 5]\n",
      "[97, 82, 79, 74, 60]\n",
      "--- 1 ms ---\n"
     ]
    }
   ],
   "source": [
    "# Сортировка обменом. || Сортировка пузырьком.\n",
    "import time\n",
    "import copy\n",
    "\n",
    "import random\n",
    "\n",
    "start_time = time.time()\n",
    "def sortbub(my_matrix):\n",
    "    n = len(my_matrix) \n",
    "    for i in range(n):  \n",
    "        for j in range(0, n - i - 1):  \n",
    "            if my_matrix[j] > my_matrix[j + 1]:  \n",
    "                my_matrix[j], my_matrix[j + 1] = my_matrix[j + 1], my_matrix[j]\n",
    "sortbub(my_matrix)\n",
    "prmat(my_matrix)\n",
    "print(\"--- {0} ms ---\".format(round((time.time() - start_time)*1000)))"
   ]
  },
  {
   "cell_type": "code",
   "execution_count": 189,
   "id": "veterinary-glory",
   "metadata": {
    "id": "veterinary-glory",
    "outputId": "9cc2a9ff-ec7a-43de-e4a8-47945d030986"
   },
   "outputs": [
    {
     "name": "stdout",
     "output_type": "stream",
     "text": [
      "[9, 44, 81, 64, 82]\n",
      "[24, 42, 72, 66, 36]\n",
      "[49, 18, 48, 80, 48]\n",
      "[74, 26, 63, 8, 5]\n",
      "[97, 82, 79, 74, 60]\n",
      "--- 1 ms ---\n"
     ]
    }
   ],
   "source": [
    "# Сортировка Шелла.\n",
    "start_time = time.time()\n",
    "def shell_sort(my_matrix):\n",
    "    n = len(my_matrix) \n",
    "    gap = n // 2 \n",
    "    while gap > 0:\n",
    "        for i in range(gap, n): \n",
    "            temp = my_matrix[i] \n",
    "            j = i\n",
    "            while j >= gap and my_matrix[j - gap] > temp:\n",
    "                my_matrix[j] = my_matrix[j - gap]\n",
    "                j -= gap\n",
    "            my_matrix[j] = temp\n",
    "        gap //= 2  \n",
    "shell_sort(my_matrix)\n",
    "prmat(my_matrix)\n",
    "print(\"--- {0} ms ---\".format(round((time.time() - start_time)*1000)))"
   ]
  },
  {
   "cell_type": "code",
   "execution_count": 190,
   "id": "correct-chaos",
   "metadata": {
    "id": "correct-chaos",
    "outputId": "f4d9aef1-8a2f-46a0-def0-4c9e049f5c77"
   },
   "outputs": [
    {
     "name": "stdout",
     "output_type": "stream",
     "text": [
      "[9, 44, 81, 64, 82]\n",
      "[24, 42, 72, 66, 36]\n",
      "[49, 18, 48, 80, 48]\n",
      "[74, 26, 63, 8, 5]\n",
      "[97, 82, 79, 74, 60]\n",
      "--- 2 ms ---\n"
     ]
    }
   ],
   "source": [
    "# Быстрая сортировка.\n",
    "start_time = time.time()\n",
    "def sortbis(my_matrix):\n",
    "    if len(my_matrix)<=1:\n",
    "        return my_matrix\n",
    "    ser = my_matrix[len(my_matrix) // 2]  #  (середина массива)\n",
    "    left = [x for x in my_matrix if x < ser]  #  меньше \n",
    "    middle = [x for x in my_matrix if x == ser]  # ==\n",
    "    right = [x for x in my_matrix if x > ser]  #  больше\n",
    "    return sortbis(left) + middle + sortbis(right)\n",
    "\n",
    "sortbis(my_matrix)\n",
    "prmat(my_matrix)\n",
    "print(\"--- {0} ms ---\".format(round((time.time() - start_time)*1000)))\n",
    "    "
   ]
  },
  {
   "cell_type": "code",
   "execution_count": 191,
   "id": "french-czech",
   "metadata": {
    "colab": {
     "base_uri": "https://localhost:8080/",
     "height": 217
    },
    "executionInfo": {
     "elapsed": 433,
     "status": "error",
     "timestamp": 1645638345253,
     "user": {
      "displayName": "Sergey Simonov",
      "photoUrl": "https://lh3.googleusercontent.com/a-/AOh14GhQdeIfzzsg8bfb7DLHaLzEFH8Ebg2FyuaL9YoQyA=s64",
      "userId": "14094206399671235086"
     },
     "user_tz": -180
    },
    "id": "french-czech",
    "outputId": "7e38b779-8bbf-4955-c3ad-2a6be0ee386a"
   },
   "outputs": [
    {
     "name": "stdout",
     "output_type": "stream",
     "text": [
      "[9, 44, 64, 81, 82]\n",
      "[24, 36, 42, 66, 72]\n",
      "[18, 48, 48, 49, 80]\n",
      "[5, 8, 26, 63, 74]\n",
      "[60, 74, 79, 82, 97]\n",
      "--- 1 ms ---\n"
     ]
    }
   ],
   "source": [
    "# Турнирная сортировка.\n",
    "start_time = time.time()\n",
    "def sorttur(arr):\n",
    "    sorted_arr = [] \n",
    "    while arr: \n",
    "        min_val = min(arr)\n",
    "        sorted_arr.append(min_val) \n",
    "        arr.remove(min_val)  \n",
    "    return sorted_arr  \n",
    "\n",
    "def sort_matrix(matrix):\n",
    "    for i in range(len(matrix)): \n",
    "        matrix[i] = sorttur(matrix[i])  \n",
    "    return matrix  \n",
    "sort_matrix(my_matrix)\n",
    "prmat(my_matrix)\n",
    "print(\"--- {0} ms ---\".format(round((time.time() - start_time)*1000)))"
   ]
  },
  {
   "cell_type": "markdown",
   "id": "rental-jerusalem",
   "metadata": {
    "id": "rental-jerusalem"
   },
   "source": [
    "### Вывод\n"
   ]
  },
  {
   "cell_type": "markdown",
   "id": "9d108a0a",
   "metadata": {
    "id": "9d108a0a"
   },
   "source": []
  }
 ],
 "metadata": {
  "colab": {
   "provenance": []
  },
  "kernelspec": {
   "display_name": "Python 3",
   "language": "python",
   "name": "python3"
  },
  "language_info": {
   "codemirror_mode": {
    "name": "ipython",
    "version": 3
   },
   "file_extension": ".py",
   "mimetype": "text/x-python",
   "name": "python",
   "nbconvert_exporter": "python",
   "pygments_lexer": "ipython3",
   "version": "3.11.9"
  }
 },
 "nbformat": 4,
 "nbformat_minor": 5
}
